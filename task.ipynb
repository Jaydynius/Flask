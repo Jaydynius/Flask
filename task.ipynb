{
 "cells": [
  {
   "cell_type": "code",
   "execution_count": null,
   "metadata": {},
   "outputs": [],
   "source": []
  },
  {
   "cell_type": "code",
   "execution_count": 1,
   "metadata": {},
   "outputs": [
    {
     "name": "stdout",
     "output_type": "stream",
     "text": [
      " * Serving Flask app '__main__'\n",
      " * Debug mode: off\n"
     ]
    },
    {
     "name": "stderr",
     "output_type": "stream",
     "text": [
      "WARNING: This is a development server. Do not use it in a production deployment. Use a production WSGI server instead.\n",
      " * Running on http://127.0.0.1:4000\n",
      "Press CTRL+C to quit\n",
      "127.0.0.1 - - [14/Dec/2023 11:45:38] \"GET / HTTP/1.1\" 200 -\n",
      "127.0.0.1 - - [14/Dec/2023 11:45:38] \"GET /static/style.css HTTP/1.1\" 304 -\n",
      "127.0.0.1 - - [14/Dec/2023 11:45:38] \"GET /static/bg.avif HTTP/1.1\" 304 -\n",
      "127.0.0.1 - - [14/Dec/2023 11:45:38] \"GET /favicon.ico HTTP/1.1\" 404 -\n",
      "127.0.0.1 - - [14/Dec/2023 11:48:11] \"GET / HTTP/1.1\" 200 -\n",
      "127.0.0.1 - - [14/Dec/2023 11:48:11] \"GET /static/style.css HTTP/1.1\" 304 -\n",
      "127.0.0.1 - - [14/Dec/2023 11:48:11] \"GET /static/bg.avif HTTP/1.1\" 304 -\n",
      "127.0.0.1 - - [14/Dec/2023 11:48:13] \"GET /delete/1 HTTP/1.1\" 302 -\n",
      "127.0.0.1 - - [14/Dec/2023 11:48:13] \"GET / HTTP/1.1\" 200 -\n",
      "127.0.0.1 - - [14/Dec/2023 11:48:13] \"GET /static/style.css HTTP/1.1\" 304 -\n",
      "127.0.0.1 - - [14/Dec/2023 11:48:14] \"GET /delete/2 HTTP/1.1\" 302 -\n",
      "127.0.0.1 - - [14/Dec/2023 11:48:14] \"GET / HTTP/1.1\" 200 -\n",
      "127.0.0.1 - - [14/Dec/2023 11:48:14] \"GET /static/style.css HTTP/1.1\" 304 -\n",
      "127.0.0.1 - - [14/Dec/2023 11:48:51] \"POST /add HTTP/1.1\" 302 -\n",
      "127.0.0.1 - - [14/Dec/2023 11:48:51] \"GET /result HTTP/1.1\" 200 -\n",
      "127.0.0.1 - - [14/Dec/2023 11:48:51] \"GET /static/style.css HTTP/1.1\" 304 -\n",
      "127.0.0.1 - - [14/Dec/2023 11:48:54] \"GET / HTTP/1.1\" 200 -\n",
      "127.0.0.1 - - [14/Dec/2023 11:48:54] \"GET /static/style.css HTTP/1.1\" 304 -\n",
      "127.0.0.1 - - [14/Dec/2023 11:49:54] \"POST /add HTTP/1.1\" 302 -\n",
      "127.0.0.1 - - [14/Dec/2023 11:49:54] \"GET /result HTTP/1.1\" 200 -\n",
      "127.0.0.1 - - [14/Dec/2023 11:49:55] \"GET /static/style.css HTTP/1.1\" 304 -\n",
      "127.0.0.1 - - [14/Dec/2023 11:49:56] \"GET / HTTP/1.1\" 200 -\n",
      "127.0.0.1 - - [14/Dec/2023 11:49:56] \"GET /static/style.css HTTP/1.1\" 304 -\n"
     ]
    }
   ],
   "source": [
    "# app.py\n",
    "from flask import Flask, render_template, request, redirect, url_for\n",
    "\n",
    "app = Flask(__name__)\n",
    "\n",
    "# Sample data (tasks) as a list of dictionaries\n",
    "tasks = [\n",
    "    {'id': 1, 'title': 'Task 1', 'description': 'Do something'},\n",
    "    {'id': 2, 'title': 'Task 2', 'description': 'Complete project'},\n",
    "]\n",
    "\n",
    "# Function to add a new task\n",
    "def add_task(title, description):\n",
    "    new_task = {\n",
    "        'id': len(tasks) + 1,\n",
    "        'title': title,\n",
    "        'description': description,\n",
    "    }\n",
    "    tasks.append(new_task)\n",
    "\n",
    "# Function to get all tasks\n",
    "def get_tasks():\n",
    "    return tasks\n",
    "\n",
    "# Function to get a task by ID\n",
    "def get_task_by_id(task_id):\n",
    "    return next((task for task in tasks if task['id'] == task_id), None)\n",
    "\n",
    "# Function to delete a task by ID\n",
    "def delete_task(task_id):\n",
    "    global tasks\n",
    "    tasks = [task for task in tasks if task['id'] != task_id]\n",
    "\n",
    "@app.route('/')\n",
    "def index():\n",
    "    return render_template('index.html', tasks=get_tasks())\n",
    "\n",
    "@app.route('/add', methods=['POST'])\n",
    "def add():\n",
    "    if request.method == 'POST':\n",
    "        title = request.form['title']\n",
    "        description = request.form['description']\n",
    "        add_task(title, description)\n",
    "        return redirect(url_for('result'))\n",
    "\n",
    "@app.route('/delete/<int:task_id>')\n",
    "def delete(task_id):\n",
    "    task = get_task_by_id(task_id)\n",
    "    if task:\n",
    "        delete_task(task_id)\n",
    "    return redirect(url_for('index'))\n",
    "\n",
    "@app.route('/result')\n",
    "def result():\n",
    "    return render_template('result.html')\n",
    "\n",
    "if __name__ == '__main__':\n",
    "    app.run(port=4000)\n"
   ]
  },
  {
   "cell_type": "code",
   "execution_count": null,
   "metadata": {},
   "outputs": [],
   "source": []
  }
 ],
 "metadata": {
  "kernelspec": {
   "display_name": "Python 3",
   "language": "python",
   "name": "python3"
  },
  "language_info": {
   "codemirror_mode": {
    "name": "ipython",
    "version": 3
   },
   "file_extension": ".py",
   "mimetype": "text/x-python",
   "name": "python",
   "nbconvert_exporter": "python",
   "pygments_lexer": "ipython3",
   "version": "3.10.6"
  }
 },
 "nbformat": 4,
 "nbformat_minor": 2
}
